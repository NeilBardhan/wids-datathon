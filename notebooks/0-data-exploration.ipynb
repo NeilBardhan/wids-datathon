{
 "cells": [
  {
   "cell_type": "markdown",
   "metadata": {},
   "source": [
    "# WiDS Datathon 2022"
   ]
  },
  {
   "cell_type": "markdown",
   "metadata": {},
   "source": [
    "## Overview\n",
    "\n",
    "The WiDS Datathon 2022 focuses on a prediction task involving roughly 100k observations of **building energy usage records** collected over 7 years and a number of states within the United States. The dataset consists of building characteristics (e.g. floor area, facility type etc), weather data for the location of the building (e.g. annual average temperature, annual total precipitation etc) as well as the energy usage for the building and the given year, measured as **Site Energy Usage Intensity (Site EUI)**.\n",
    "\n",
    "**Each row in the data corresponds to the a single building observed in a given year**. The task is to **predict the Site EUI for each row**, given the characteristics of the building and the weather data for the location of the building."
   ]
  },
  {
   "cell_type": "markdown",
   "metadata": {},
   "source": [
    "## Data Dictionary"
   ]
  },
  {
   "cell_type": "markdown",
   "metadata": {},
   "source": [
    "  - `id`: building id\n",
    "  - `Year_Factor`: anonymized year in which the weather and energy usage factors were observed\n",
    "  - `State_Factor`: anonymized state in which the building is located\n",
    "  - `building_class`: building classification\n",
    "  - `facility_type`: building usage type\n",
    "  - `floor_area`: floor area (in square feet) of the building\n",
    "  - `year_built`: year in which the building was constructed\n",
    "  - `energy_star_rating`: the energy star rating of the building\n",
    "  - `ELEVATION`: elevation of the building location\n",
    "  - `january_min_temp`: minimum temperature in January (in Fahrenheit) at the location of the building\n",
    "  - `january_avg_temp`: average temperature in January (in Fahrenheit) at the location of the building\n",
    "  - `january_max_temp`: maximum temperature in January (in Fahrenheit) at the location of the building\n",
    "`cooling_degree_days`: cooling degree day for a given day is the number of degrees where the daily average temperature exceeds 65 degrees Fahrenheit. Each month is summed to produce an annual total at the location of the building.\n",
    "`heating_degree_days`: heating degree day for a given day is the number of degrees where the daily average temperature falls under 65 degrees Fahrenheit. Each month is summed to produce an annual total at the location of the building.\n",
    "  - `precipitation_inches`: annual precipitation in inches at the location of the building\n",
    "  - `snowfall_inches`: annual snowfall in inches at the location of the building\n",
    "  - `snowdepth_inches`: annual snow depth in inches at the location of the building\n",
    "  - `avg_temp`: average temperature over a year at the location of the building\n",
    "  - `days_below_30F`: total number of days below 30 degrees Fahrenheit at the location of the building\n",
    "  - `days_below_20F`: total number of days below 20 degrees Fahrenheit at the location of the building\n",
    "  - `days_below_10F`: total number of days below 10 degrees Fahrenheit at the location of the building\n",
    "  - `days_below_0F`: total number of days below 0 degrees Fahrenheit at the location of the building\n",
    "  - `days_above_80F`: total number of days above 80 degrees Fahrenheit at the location of the building\n",
    "  - `days_above_90F`: total number of days above 90 degrees Fahrenheit at the location of the building\n",
    "  - `days_above_100F`: total number of days above 100 degrees Fahrenheit at the location of the building\n",
    "  - `days_above_110F`: total number of days above 110 degrees Fahrenheit at the location of the building\n",
    "  - `direction_max_wind_speed`: wind direction for maximum wind speed at the location of the building. Given in 360-degree compass point directions (e.g. 360 = north, 180 = south, etc.).\n",
    "  - `direction_peak_wind_speed`: wind direction for peak wind gust speed at the location of the building. Given in 360-degree compass point directions (e.g. 360 = north, 180 = south, etc.).\n",
    "  - `max_wind_speed`: maximum wind speed at the location of the building\n",
    "  - `days_with_fog`: number of days with fog at the location of the building"
   ]
  },
  {
   "cell_type": "code",
   "execution_count": 1,
   "metadata": {},
   "outputs": [
    {
     "name": "stderr",
     "output_type": "stream",
     "text": [
      "C:\\Users\\Neil\\AppData\\Local\\Programs\\Python\\Python36\\lib\\importlib\\_bootstrap.py:219: RuntimeWarning: numpy.ufunc size changed, may indicate binary incompatibility. Expected 192 from C header, got 216 from PyObject\n",
      "  return f(*args, **kwds)\n"
     ]
    }
   ],
   "source": [
    "import os\n",
    "import numpy as np\n",
    "import pandas as pd\n",
    "import matplotlib.pyplot as plt"
   ]
  },
  {
   "cell_type": "code",
   "execution_count": 3,
   "metadata": {},
   "outputs": [
    {
     "data": {
      "text/plain": [
       "'1.1.5'"
      ]
     },
     "execution_count": 3,
     "metadata": {},
     "output_type": "execute_result"
    }
   ],
   "source": []
  }
 ],
 "metadata": {
  "interpreter": {
   "hash": "710002aea35e6798803e2706e1a9495a0bdccae4d419d4487e886a035f0e6385"
  },
  "kernelspec": {
   "display_name": "Python 3.6.3 ('env': venv)",
   "language": "python",
   "name": "python3"
  },
  "language_info": {
   "codemirror_mode": {
    "name": "ipython",
    "version": 3
   },
   "file_extension": ".py",
   "mimetype": "text/x-python",
   "name": "python",
   "nbconvert_exporter": "python",
   "pygments_lexer": "ipython3",
   "version": "3.6.3"
  },
  "orig_nbformat": 4
 },
 "nbformat": 4,
 "nbformat_minor": 2
}
